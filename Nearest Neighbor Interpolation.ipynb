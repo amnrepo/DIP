{
 "cells": [
  {
   "cell_type": "code",
   "execution_count": 3,
   "metadata": {},
   "outputs": [
    {
     "data": {
      "text/plain": [
       "True"
      ]
     },
     "execution_count": 3,
     "metadata": {},
     "output_type": "execute_result"
    }
   ],
   "source": [
    "import cv2\n",
    "\n",
    "# Load your image\n",
    "# image = cv2.imread('Low_test image Bilinear__output.tif')\n",
    "\n",
    "image = cv2.imread('Crowd_low_output.jpg')\n",
    "\n",
    "# image = cv2.imread('Camera_low_output.jpg')\n",
    "\n",
    "# Define the new dimensions for the interpolated image\n",
    "new_width = 512  # Replace with your desired width\n",
    "new_height = 512  # Replace with your desired height\n",
    "\n",
    "# new_width = 300  # Replace with your desired width\n",
    "# new_height = 300  # Replace with your desired height\n",
    "\n",
    "# new_width = 256  # Replace with your desired width\n",
    "# new_height = 256  # Replace with your desired height\n",
    "\n",
    "# Perform nearest-neighbor interpolation\n",
    "interpolated_image = cv2.resize(image, (new_width, new_height), interpolation=cv2.INTER_NEAREST)\n",
    "\n",
    "# Display or save the interpolated image\n",
    "# cv2.imshow('Nearest Neighbor Interpolation', interpolated_image)\n",
    "# cv2.waitKey(0)\n",
    "# cv2.destroyAllWindows()\n",
    "\n",
    "# To save the image:\n",
    "# cv2.imwrite('Nearest neigh_output2.jpg', interpolated_image)\n",
    "\n",
    "cv2.imwrite('Nearest neigh_Crowd_output.jpg', interpolated_image)\n",
    "\n",
    "# cv2.imwrite('Nearest neigh_Camera_output.jpg', interpolated_image)"
   ]
  },
  {
   "cell_type": "code",
   "execution_count": 5,
   "metadata": {},
   "outputs": [
    {
     "name": "stdout",
     "output_type": "stream",
     "text": [
      "PSNR: 21.051642920381\n"
     ]
    }
   ],
   "source": [
    "import cv2\n",
    "import numpy as np\n",
    "\n",
    "def psnr(original_img, compressed_img):\n",
    "    mse = np.mean((original_img - compressed_img) ** 2)\n",
    "    if mse == 0:\n",
    "        return float('inf')\n",
    "    max_pixel = 255.0\n",
    "    psnr_value = 20 * np.log10(max_pixel / np.sqrt(mse))\n",
    "    return psnr_value\n",
    "\n",
    "# Load the original and compressed images\n",
    "original_image = cv2.imread('Fig0222(c)(crowd).tif')\n",
    "compressed_image = cv2.imread('Nearest neigh_Crowd_output.jpg')\n",
    "\n",
    "# original_image = cv2.imread('Fig0222(a)(face).tif')\n",
    "# compressed_image = cv2.imread('Nearest neigh_Crowd_output.jpg')\n",
    "\n",
    "# original_image = cv2.imread('Fig0222(b)(cameraman).tif')\n",
    "# compressed_image = cv2.imread('Nearest neigh_Camera_output.jpg')\n",
    "\n",
    "# original_image = cv2.imread('Bilinear_output2.tif')\n",
    "# compressed_image = cv2.imread('Fig0222(c)(crowd).tif')\n",
    "\n",
    "# Convert images to float32 for PSNR calculation\n",
    "original_image = original_image.astype(np.float32)\n",
    "compressed_image = compressed_image.astype(np.float32)\n",
    "\n",
    "# Calculate PSNR\n",
    "psnr_value = psnr(original_image, compressed_image)\n",
    "print('PSNR:', psnr_value)"
   ]
  },
  {
   "cell_type": "code",
   "execution_count": 12,
   "metadata": {},
   "outputs": [
    {
     "data": {
      "text/plain": [
       "True"
      ]
     },
     "execution_count": 12,
     "metadata": {},
     "output_type": "execute_result"
    }
   ],
   "source": [
    "import cv2\n",
    "\n",
    "# Load your image\n",
    "# image = cv2.imread('salt_noisy_image.jpg')\n",
    "\n",
    "# image = cv2.imread('Face_salt_noisy_image.jpg')\n",
    "\n",
    "image = cv2.imread('GaussianF_Camera_uniform_noisy_image.jpg')\n",
    "\n",
    "# Define the new dimensions for the interpolated image\n",
    "# new_width = 512  # Replace with your desired width\n",
    "# new_height = 512  # Replace with your desired height\n",
    "\n",
    "# new_width = 300  # Replace with your desired width\n",
    "# new_height = 300  # Replace with your desired height\n",
    "\n",
    "new_width = 256  # Replace with your desired width\n",
    "new_height = 256  # Replace with your desired height\n",
    "\n",
    "# Perform nearest-neighbor interpolation\n",
    "interpolated_image = cv2.resize(image, (new_width, new_height), interpolation=cv2.INTER_NEAREST)\n",
    "\n",
    "# Display or save the interpolated image\n",
    "# cv2.imshow('Nearest Neighbor Interpolation', interpolated_image)\n",
    "# cv2.waitKey(0)\n",
    "# cv2.destroyAllWindows()\n",
    "\n",
    "# To save the image:\n",
    "# cv2.imwrite('Nearest neigh_Salt_output.jpg', interpolated_image)\n",
    "\n",
    "# cv2.imwrite('Nearest neigh_Face_Salt_output.jpg', interpolated_image)\n",
    "\n",
    "cv2.imwrite('Nearest neigh_GaussianF_Camera_uniform_noisy_image.jpg', interpolated_image)\n"
   ]
  },
  {
   "cell_type": "code",
   "execution_count": 13,
   "metadata": {},
   "outputs": [
    {
     "name": "stdout",
     "output_type": "stream",
     "text": [
      "PSNR: 20.104780142362802\n"
     ]
    }
   ],
   "source": [
    "import cv2\n",
    "import numpy as np\n",
    "\n",
    "def psnr(original_img, compressed_img):\n",
    "    mse = np.mean((original_img - compressed_img) ** 2)\n",
    "    if mse == 0:\n",
    "        return float('inf')\n",
    "    max_pixel = 255.0\n",
    "    psnr_value = 20 * np.log10(max_pixel / np.sqrt(mse))\n",
    "    return psnr_value\n",
    "\n",
    "# Load the original and compressed images\n",
    "# original_image = cv2.imread('Fig0222(c)(crowd).tif')\n",
    "# compressed_image = cv2.imread('Nearest neigh_Salt_output.jpg')\n",
    "\n",
    "original_image = cv2.imread('Fig0222(b)(cameraman).tif')\n",
    "compressed_image = cv2.imread('Nearest neigh_GaussianF_Camera_uniform_noisy_image.jpg')\n",
    "\n",
    "# original_image = cv2.imread('Bilinear_output2.tif')\n",
    "# compressed_image = cv2.imread('Fig0222(c)(crowd).tif')\n",
    "\n",
    "# Convert images to float32 for PSNR calculation\n",
    "original_image = original_image.astype(np.float32)\n",
    "compressed_image = compressed_image.astype(np.float32)\n",
    "\n",
    "# Calculate PSNR\n",
    "psnr_value = psnr(original_image, compressed_image)\n",
    "print('PSNR:', psnr_value)"
   ]
  }
 ],
 "metadata": {
  "kernelspec": {
   "display_name": "base",
   "language": "python",
   "name": "python3"
  },
  "language_info": {
   "codemirror_mode": {
    "name": "ipython",
    "version": 3
   },
   "file_extension": ".py",
   "mimetype": "text/x-python",
   "name": "python",
   "nbconvert_exporter": "python",
   "pygments_lexer": "ipython3",
   "version": "3.7.3"
  }
 },
 "nbformat": 4,
 "nbformat_minor": 2
}
