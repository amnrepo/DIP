{
 "cells": [
  {
   "cell_type": "code",
   "execution_count": 4,
   "metadata": {},
   "outputs": [
    {
     "name": "stdout",
     "output_type": "stream",
     "text": [
      "Width: 256\n",
      "Height: 256\n",
      "Number of channels (e.g., 3 for RGB): 3\n"
     ]
    }
   ],
   "source": [
    "import cv2\n",
    "\n",
    "# Load the image\n",
    "image = cv2.imread('Fig0222(b)(cameraman).tif')\n",
    "\n",
    "# Get the dimensions\n",
    "height, width, channels = image.shape\n",
    "\n",
    "# Print the dimensions\n",
    "print(\"Width:\", width)\n",
    "print(\"Height:\", height)\n",
    "print(\"Number of channels (e.g., 3 for RGB):\", channels)"
   ]
  },
  {
   "cell_type": "code",
   "execution_count": 5,
   "metadata": {},
   "outputs": [
    {
     "data": {
      "text/plain": [
       "True"
      ]
     },
     "execution_count": 5,
     "metadata": {},
     "output_type": "execute_result"
    }
   ],
   "source": [
    "import cv2\n",
    "import numpy as np\n",
    "\n",
    "# Load the image\n",
    "# image = cv2.imread('Fig0222(a)(face).tif')\n",
    "\n",
    "image = cv2.imread('Fig0222(b)(cameraman).tif')\n",
    "\n",
    "# Define the new dimensions (target size)\n",
    "new_width = 128  # Change this to your desired width\n",
    "new_height = 128  # Change this to your desired height\n",
    "\n",
    "# Perform bilinear interpolation\n",
    "resized_image = cv2.resize(image, (new_width, new_height), interpolation=cv2.INTER_LINEAR)\n",
    "\n",
    "# Save or display the interpolated image\n",
    "# cv2.imwrite('Face_low_output.jpg', resized_image)  # Save the result\n",
    "\n",
    "cv2.imwrite('Camera_low_output.jpg', resized_image)  # Save the result\n",
    "\n",
    "# cv2.imshow('Bilinear Interpolation', resized_image)  # Display the result\n",
    "# cv2.waitKey(0)\n",
    "# cv2.destroyAllWindows()"
   ]
  },
  {
   "cell_type": "code",
   "execution_count": 6,
   "metadata": {},
   "outputs": [
    {
     "data": {
      "text/plain": [
       "True"
      ]
     },
     "execution_count": 6,
     "metadata": {},
     "output_type": "execute_result"
    }
   ],
   "source": [
    "import cv2\n",
    "import numpy as np\n",
    "\n",
    "# Load the image\n",
    "# image = cv2.imread('Face_low_output.jpg')\n",
    "\n",
    "image = cv2.imread('Camera_low_output.jpg')\n",
    "\n",
    "# Define the new dimensions (target size)\n",
    "# new_width = 300  # Change this to your desired width\n",
    "# new_height = 300  # Change this to your desired height\n",
    "\n",
    "new_width = 256  # Change this to your desired width\n",
    "new_height = 256  # Change this to your desired height\n",
    "\n",
    "# Perform bilinear interpolation\n",
    "resized_image = cv2.resize(image, (new_width, new_height), interpolation=cv2.INTER_LINEAR)\n",
    "\n",
    "# Save or display the interpolated image\n",
    "# cv2.imwrite('Bilinear_Face_output.jpg', resized_image)  # Save the result\n",
    "# cv2.imshow('Bilinear Interpolation', resized_image)  # Display the result\n",
    "cv2.imwrite('Bilinear_Camera_output.jpg', resized_image)\n",
    "\n",
    "# cv2.waitKey(0)\n",
    "# cv2.destroyAllWindows()\n"
   ]
  },
  {
   "cell_type": "code",
   "execution_count": 7,
   "metadata": {},
   "outputs": [
    {
     "name": "stdout",
     "output_type": "stream",
     "text": [
      "PSNR: 25.63430444764122\n"
     ]
    }
   ],
   "source": [
    "import cv2\n",
    "import numpy as np\n",
    "\n",
    "def psnr(original_img, compressed_img):\n",
    "    mse = np.mean((original_img - compressed_img) ** 2)\n",
    "    if mse == 0:\n",
    "        return float('inf')\n",
    "    max_pixel = 255.0\n",
    "    psnr_value = 20 * np.log10(max_pixel / np.sqrt(mse))\n",
    "    return psnr_value\n",
    "\n",
    "# Load the original and compressed images\n",
    "# original_image = cv2.imread('Fig0222(a)(face).tif')\n",
    "# compressed_image = cv2.imread('Bilinear_Face_output.jpg')\n",
    "\n",
    "original_image = cv2.imread('Fig0222(b)(cameraman).tif')\n",
    "compressed_image = cv2.imread('Bilinear_Camera_output.jpg')\n",
    "\n",
    "# original_image = cv2.imread('Bilinear_output2.tif')\n",
    "# compressed_image = cv2.imread('Fig0222(c)(crowd).tif')\n",
    "\n",
    "# Convert images to float32 for PSNR calculation\n",
    "original_image = original_image.astype(np.float32)\n",
    "compressed_image = compressed_image.astype(np.float32)\n",
    "\n",
    "# Calculate PSNR\n",
    "psnr_value = psnr(original_image, compressed_image)\n",
    "print('PSNR:', psnr_value)"
   ]
  },
  {
   "cell_type": "code",
   "execution_count": 7,
   "metadata": {},
   "outputs": [
    {
     "data": {
      "text/plain": [
       "True"
      ]
     },
     "execution_count": 7,
     "metadata": {},
     "output_type": "execute_result"
    }
   ],
   "source": [
    "import cv2\n",
    "import numpy as np\n",
    "\n",
    "def add_salt_and_pepper_noise(image, salt_prob, pepper_prob):\n",
    "    noisy_image = np.copy(image)\n",
    "\n",
    "    # Add salt noise\n",
    "    num_salt = np.ceil(salt_prob * image.size)\n",
    "    salt_coords = [np.random.randint(0, i - 1, int(num_salt)) for i in image.shape]\n",
    "    noisy_image[salt_coords[0], salt_coords[1], :] = 255\n",
    "\n",
    "    # Add pepper noise\n",
    "    num_pepper = np.ceil(pepper_prob * image.size)\n",
    "    pepper_coords = [np.random.randint(0, i - 1, int(num_pepper)) for i in image.shape]\n",
    "    noisy_image[pepper_coords[0], pepper_coords[1], :] = 0\n",
    "\n",
    "    return noisy_image\n",
    "\n",
    "# Load an image\n",
    "# image = cv2.imread('Low_test image Bilinear__output.tif')\n",
    "\n",
    "image = cv2.imread('Camera_low_output.jpg')\n",
    "\n",
    "# Define salt and pepper probabilities (adjust as needed)\n",
    "salt_probability = 0.02  # Probability of salt noise\n",
    "pepper_probability = 0.02  # Probability of pepper noise\n",
    "\n",
    "# Add salt and pepper noise to the image\n",
    "noisy_image = add_salt_and_pepper_noise(image, salt_probability, pepper_probability)\n",
    "\n",
    "\n",
    "# Save the noisy image\n",
    "# cv2.imwrite('salt_noisy_image.jpg', noisy_image)\n",
    "\n",
    "cv2.imwrite('Camera_salt_noisy_image.jpg', noisy_image)\n",
    "\n",
    "# Display the noisy image\n",
    "# cv2.imshow('Salt Noisy Image', noisy_image)\n",
    "# cv2.waitKey(0)\n",
    "# cv2.destroyAllWindows()\n",
    "\n",
    "\n"
   ]
  },
  {
   "cell_type": "code",
   "execution_count": 8,
   "metadata": {},
   "outputs": [
    {
     "data": {
      "text/plain": [
       "True"
      ]
     },
     "execution_count": 8,
     "metadata": {},
     "output_type": "execute_result"
    }
   ],
   "source": [
    "import cv2\n",
    "import numpy as np\n",
    "\n",
    "# Load the image\n",
    "# image = cv2.imread('salt_noisy_image.jpg')\n",
    "\n",
    "image = cv2.imread('Camera_salt_noisy_image.jpg')\n",
    "\n",
    "# Define the new dimensions (target size)\n",
    "# new_width = 512  # Change this to your desired width\n",
    "# new_height = 512  # Change this to your desired height\n",
    "\n",
    "# new_width = 300  # Change this to your desired width\n",
    "# new_height = 300  # Change this to your desired height\n",
    "\n",
    "new_width = 256  # Change this to your desired width\n",
    "new_height = 256  # Change this to your desired height\n",
    "\n",
    "# Perform bilinear interpolation\n",
    "resized_image = cv2.resize(image, (new_width, new_height), interpolation=cv2.INTER_LINEAR)\n",
    "\n",
    "# Save or display the interpolated image\n",
    "# cv2.imwrite('Bilinear_Salt_output.jpg', resized_image)  # Save the result\n",
    "\n",
    "# cv2.imwrite('Bilinear_Face_Salt_output.jpg', resized_image)  # Save the result\n",
    "\n",
    "cv2.imwrite('Bilinear_Camera_Salt_output.jpg', resized_image)  # Save the result\n",
    "\n",
    "# cv2.imshow('Bilinear Interpolation', resized_image)  # Display the result\n",
    "# cv2.waitKey(0)\n",
    "# cv2.destroyAllWindows()"
   ]
  },
  {
   "cell_type": "code",
   "execution_count": 9,
   "metadata": {},
   "outputs": [
    {
     "name": "stdout",
     "output_type": "stream",
     "text": [
      "PSNR: 17.676110185705614\n"
     ]
    }
   ],
   "source": [
    "import cv2\n",
    "import numpy as np\n",
    "\n",
    "def psnr(original_img, compressed_img):\n",
    "    mse = np.mean((original_img - compressed_img) ** 2)\n",
    "    if mse == 0:\n",
    "        return float('inf')\n",
    "    max_pixel = 255.0\n",
    "    psnr_value = 20 * np.log10(max_pixel / np.sqrt(mse))\n",
    "    return psnr_value\n",
    "\n",
    "# Load the original and compressed images\n",
    "# original_image = cv2.imread('Fig0222(c)(crowd).tif')\n",
    "# compressed_image = cv2.imread('Bilinear_Salt_output.jpg')\n",
    "\n",
    "# original_image = cv2.imread('Fig0222(a)(face).tif')\n",
    "# compressed_image = cv2.imread('Bilinear_Face_Salt_output.jpg')\n",
    "\n",
    "original_image = cv2.imread('Fig0222(b)(cameraman).tif')\n",
    "compressed_image = cv2.imread('Bilinear_Camera_Salt_output.jpg')\n",
    "\n",
    "# original_image = cv2.imread('Bilinear_output2.tif')\n",
    "# compressed_image = cv2.imread('Fig0222(c)(crowd).tif')\n",
    "\n",
    "# Convert images to float32 for PSNR calculation\n",
    "original_image = original_image.astype(np.float32)\n",
    "compressed_image = compressed_image.astype(np.float32)\n",
    "\n",
    "# Calculate PSNR\n",
    "psnr_value = psnr(original_image, compressed_image)\n",
    "print('PSNR:', psnr_value)"
   ]
  },
  {
   "cell_type": "code",
   "execution_count": 67,
   "metadata": {},
   "outputs": [
    {
     "data": {
      "text/plain": [
       "True"
      ]
     },
     "execution_count": 67,
     "metadata": {},
     "output_type": "execute_result"
    }
   ],
   "source": [
    "import cv2\n",
    "import numpy as np\n",
    "\n",
    "# Load the noisy image\n",
    "noisy_image = cv2.imread('salt_noisy_image.jpg')\n",
    "\n",
    "# Apply Gaussian filter for noise reduction\n",
    "filtered_image = cv2.GaussianBlur(noisy_image, (5, 5), 0.7)\n",
    "\n",
    "# Save the filtered image\n",
    "cv2.imwrite('Gaussian_denoising_filtered_image.jpg', filtered_image)"
   ]
  },
  {
   "cell_type": "code",
   "execution_count": 68,
   "metadata": {},
   "outputs": [
    {
     "data": {
      "text/plain": [
       "True"
      ]
     },
     "execution_count": 68,
     "metadata": {},
     "output_type": "execute_result"
    }
   ],
   "source": [
    "import cv2\n",
    "import numpy as np\n",
    "\n",
    "# Load the image\n",
    "image = cv2.imread('Gaussian_denoising_filtered_image.jpg')\n",
    "\n",
    "# Define the new dimensions (target size)\n",
    "new_width = 512  # Change this to your desired width\n",
    "new_height = 512  # Change this to your desired height\n",
    "\n",
    "# Perform bilinear interpolation\n",
    "resized_image = cv2.resize(image, (new_width, new_height), interpolation=cv2.INTER_LINEAR)\n",
    "\n",
    "# Save or display the interpolated image\n",
    "cv2.imwrite('Bilinear_Gaussian_Salt_output.jpg', resized_image)  # Save the result\n",
    "# cv2.imshow('Bilinear Interpolation', resized_image)  # Display the result\n",
    "# cv2.waitKey(0)\n",
    "# cv2.destroyAllWindows()"
   ]
  },
  {
   "cell_type": "code",
   "execution_count": 69,
   "metadata": {},
   "outputs": [
    {
     "name": "stdout",
     "output_type": "stream",
     "text": [
      "PSNR: 17.898399668906404\n"
     ]
    }
   ],
   "source": [
    "import cv2\n",
    "import numpy as np\n",
    "\n",
    "def psnr(original_img, compressed_img):\n",
    "    mse = np.mean((original_img - compressed_img) ** 2)\n",
    "    if mse == 0:\n",
    "        return float('inf')\n",
    "    max_pixel = 255.0\n",
    "    psnr_value = 20 * np.log10(max_pixel / np.sqrt(mse))\n",
    "    return psnr_value\n",
    "\n",
    "# Load the original and compressed images\n",
    "original_image = cv2.imread('Fig0222(c)(crowd).tif')\n",
    "compressed_image = cv2.imread('Bilinear_Gaussian_Salt_output.jpg')\n",
    "\n",
    "# original_image = cv2.imread('Bilinear_output2.tif')\n",
    "# compressed_image = cv2.imread('Fig0222(c)(crowd).tif')\n",
    "\n",
    "# Convert images to float32 for PSNR calculation\n",
    "original_image = original_image.astype(np.float32)\n",
    "compressed_image = compressed_image.astype(np.float32)\n",
    "\n",
    "# Calculate PSNR\n",
    "psnr_value = psnr(original_image, compressed_image)\n",
    "print('PSNR:', psnr_value)"
   ]
  },
  {
   "cell_type": "code",
   "execution_count": 75,
   "metadata": {},
   "outputs": [
    {
     "data": {
      "text/plain": [
       "True"
      ]
     },
     "execution_count": 75,
     "metadata": {},
     "output_type": "execute_result"
    }
   ],
   "source": [
    "import cv2\n",
    "import numpy as np\n",
    "\n",
    "# Load your noisy image\n",
    "noisy_image = cv2.imread('salt_noisy_image.jpg', cv2.IMREAD_COLOR)\n",
    "\n",
    "# Define the point spread function (PSF) - this models the blurring in the image\n",
    "psf = np.ones((3, 3)) / 9  # You can adjust the size and shape of the PSF\n",
    "\n",
    "# Apply the Wiener filter for deconvolution\n",
    "deconvolved_image = cv2.filter2D(noisy_image, -1, psf)\n",
    "\n",
    "# Display or save the deconvolved image\n",
    "cv2.imwrite('Wiener_deconvolved_denoising_filtered_image.jpg', deconvolved_image)\n",
    "\n",
    "# You can also compare this deconvolved image with the noisy image using evaluation metrics\n"
   ]
  },
  {
   "cell_type": "code",
   "execution_count": 76,
   "metadata": {},
   "outputs": [
    {
     "data": {
      "text/plain": [
       "True"
      ]
     },
     "execution_count": 76,
     "metadata": {},
     "output_type": "execute_result"
    }
   ],
   "source": [
    "import cv2\n",
    "import numpy as np\n",
    "\n",
    "# Load the image\n",
    "image = cv2.imread('Wiener_deconvolved_denoising_filtered_image.jpg')\n",
    "\n",
    "# Define the new dimensions (target size)\n",
    "new_width = 512  # Change this to your desired width\n",
    "new_height = 512  # Change this to your desired height\n",
    "\n",
    "# Perform bilinear interpolation\n",
    "resized_image = cv2.resize(image, (new_width, new_height), interpolation=cv2.INTER_LINEAR)\n",
    "\n",
    "# Save or display the interpolated image\n",
    "cv2.imwrite('Bilinear_Wiener_Salt_output.jpg', resized_image)  # Save the result\n",
    "# cv2.imshow('Bilinear Interpolation', resized_image)  # Display the result\n",
    "# cv2.waitKey(0)\n",
    "# cv2.destroyAllWindows()"
   ]
  },
  {
   "cell_type": "code",
   "execution_count": 77,
   "metadata": {},
   "outputs": [
    {
     "name": "stdout",
     "output_type": "stream",
     "text": [
      "PSNR: 17.31241209342013\n"
     ]
    }
   ],
   "source": [
    "import cv2\n",
    "import numpy as np\n",
    "\n",
    "def psnr(original_img, compressed_img):\n",
    "    mse = np.mean((original_img - compressed_img) ** 2)\n",
    "    if mse == 0:\n",
    "        return float('inf')\n",
    "    max_pixel = 255.0\n",
    "    psnr_value = 20 * np.log10(max_pixel / np.sqrt(mse))\n",
    "    return psnr_value\n",
    "\n",
    "# Load the original and compressed images\n",
    "original_image = cv2.imread('Fig0222(c)(crowd).tif')\n",
    "compressed_image = cv2.imread('Bilinear_Wiener_Salt_output.jpg')\n",
    "\n",
    "# original_image = cv2.imread('Bilinear_output2.tif')\n",
    "# compressed_image = cv2.imread('Fig0222(c)(crowd).tif')\n",
    "\n",
    "# Convert images to float32 for PSNR calculation\n",
    "original_image = original_image.astype(np.float32)\n",
    "compressed_image = compressed_image.astype(np.float32)\n",
    "\n",
    "# Calculate PSNR\n",
    "psnr_value = psnr(original_image, compressed_image)\n",
    "print('PSNR:', psnr_value)"
   ]
  }
 ],
 "metadata": {
  "kernelspec": {
   "display_name": "base",
   "language": "python",
   "name": "python3"
  },
  "language_info": {
   "codemirror_mode": {
    "name": "ipython",
    "version": 3
   },
   "file_extension": ".py",
   "mimetype": "text/x-python",
   "name": "python",
   "nbconvert_exporter": "python",
   "pygments_lexer": "ipython3",
   "version": "3.7.3"
  }
 },
 "nbformat": 4,
 "nbformat_minor": 2
}
