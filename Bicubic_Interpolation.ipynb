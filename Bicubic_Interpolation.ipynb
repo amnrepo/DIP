{
 "cells": [
  {
   "cell_type": "code",
   "execution_count": 1,
   "metadata": {},
   "outputs": [
    {
     "name": "stdout",
     "output_type": "stream",
     "text": [
      "Width: 300\n",
      "Height: 300\n",
      "Number of channels (e.g., 3 for RGB): 3\n"
     ]
    }
   ],
   "source": [
    "import cv2\n",
    "\n",
    "# Load the image\n",
    "image = cv2.imread('Fig0222(a)(face).tif')\n",
    "\n",
    "# Get the dimensions\n",
    "height, width, channels = image.shape\n",
    "\n",
    "# Print the dimensions\n",
    "print(\"Width:\", width)\n",
    "print(\"Height:\", height)\n",
    "print(\"Number of channels (e.g., 3 for RGB):\", channels)\n"
   ]
  },
  {
   "cell_type": "code",
   "execution_count": 2,
   "metadata": {},
   "outputs": [
    {
     "data": {
      "text/plain": [
       "(300, 300, 3)"
      ]
     },
     "execution_count": 2,
     "metadata": {},
     "output_type": "execute_result"
    }
   ],
   "source": [
    "image.shape"
   ]
  },
  {
   "cell_type": "code",
   "execution_count": 6,
   "metadata": {},
   "outputs": [
    {
     "data": {
      "text/plain": [
       "True"
      ]
     },
     "execution_count": 6,
     "metadata": {},
     "output_type": "execute_result"
    }
   ],
   "source": [
    "import cv2\n",
    "\n",
    "# Load your image\n",
    "image = cv2.imread('Crowd_low_output.jpg')\n",
    "\n",
    "# image = cv2.imread('Camera_low_output.jpg')\n",
    "\n",
    "# Define the new dimensions for the interpolated image\n",
    "new_width = 512  # Replace with your desired width\n",
    "new_height = 512  # Replace with your desired height\n",
    "\n",
    "# new_width = 300  # Replace with your desired width\n",
    "# new_height = 300  # Replace with your desired height\n",
    "\n",
    "# new_width = 256  # Replace with your desired width\n",
    "# new_height = 256  # Replace with your desired height\n",
    "\n",
    "# Perform bicubic interpolation\n",
    "interpolated_image = cv2.resize(image, (new_width, new_height), interpolation=cv2.INTER_CUBIC)\n",
    "\n",
    "# Display or save the interpolated image\n",
    "# cv2.imshow('Bicubic Interpolation', interpolated_image)\n",
    "# cv2.waitKey(0)\n",
    "# cv2.destroyAllWindows()\n",
    "\n",
    "# To save the image:\n",
    "cv2.imwrite('Bicubic_Crowd_output.jpg', interpolated_image)\n",
    "\n",
    "# cv2.imwrite('Bicubic_Camera_output.jpg', interpolated_image)\n"
   ]
  },
  {
   "cell_type": "code",
   "execution_count": 7,
   "metadata": {},
   "outputs": [
    {
     "name": "stdout",
     "output_type": "stream",
     "text": [
      "PSNR: 24.079078048624204\n"
     ]
    }
   ],
   "source": [
    "import cv2\n",
    "import numpy as np\n",
    "\n",
    "def psnr(original_img, compressed_img):\n",
    "    mse = np.mean((original_img - compressed_img) ** 2)\n",
    "    if mse == 0:\n",
    "        return float('inf')\n",
    "    max_pixel = 255.0\n",
    "    psnr_value = 20 * np.log10(max_pixel / np.sqrt(mse))\n",
    "    return psnr_value\n",
    "\n",
    "# Load the original and compressed images\n",
    "# original_image = cv2.imread('Fig0222(c)(crowd).tif')\n",
    "# compressed_image = cv2.imread('Bicubic_output2.jpg')\n",
    "\n",
    "# original_image = cv2.imread('Fig0222(a)(face).tif')\n",
    "# compressed_image = cv2.imread('Bicubic_Face_output.jpg')\n",
    "\n",
    "# original_image = cv2.imread('Fig0222(b)(cameraman).tif')\n",
    "# compressed_image = cv2.imread('Bicubic_Camera_output.jpg')\n",
    "\n",
    "original_image = cv2.imread('Bicubic_Crowd_output.jpg')\n",
    "compressed_image = cv2.imread('Fig0222(c)(crowd).tif')\n",
    "\n",
    "# Convert images to float32 for PSNR calculation\n",
    "original_image = original_image.astype(np.float32)\n",
    "compressed_image = compressed_image.astype(np.float32)\n",
    "\n",
    "# Calculate PSNR\n",
    "psnr_value = psnr(original_image, compressed_image)\n",
    "print('PSNR:', psnr_value)"
   ]
  },
  {
   "cell_type": "code",
   "execution_count": 5,
   "metadata": {},
   "outputs": [
    {
     "data": {
      "text/plain": [
       "True"
      ]
     },
     "execution_count": 5,
     "metadata": {},
     "output_type": "execute_result"
    }
   ],
   "source": [
    "import cv2\n",
    "\n",
    "# Load your image\n",
    "# image = cv2.imread('salt_noisy_image.jpg')\n",
    "\n",
    "# image = cv2.imread('Face_salt_noisy_image.jpg')\n",
    "\n",
    "image = cv2.imread('Camera_salt_noisy_image.jpg')\n",
    "\n",
    "# Define the new dimensions for the interpolated image\n",
    "# new_width = 512  # Replace with your desired width\n",
    "# new_height = 512  # Replace with your desired height\n",
    "\n",
    "# new_width = 300  # Replace with your desired width\n",
    "# new_height = 300  # Replace with your desired height\n",
    "\n",
    "new_width = 256  # Replace with your desired width\n",
    "new_height = 256  # Replace with your desired height\n",
    "\n",
    "\n",
    "# Perform bicubic interpolation\n",
    "interpolated_image = cv2.resize(image, (new_width, new_height), interpolation=cv2.INTER_CUBIC)\n",
    "\n",
    "# Display or save the interpolated image\n",
    "# cv2.imshow('Bicubic Interpolation', interpolated_image)\n",
    "# cv2.waitKey(0)\n",
    "# cv2.destroyAllWindows()\n",
    "\n",
    "# To save the image:\n",
    "# cv2.imwrite('Bicubic_Salt_output.jpg', interpolated_image)\n",
    "\n",
    "# cv2.imwrite('Bicubic_Face_Salt_output.jpg', interpolated_image)\n",
    "\n",
    "cv2.imwrite('Bicubic_Camera_Salt_output.jpg', interpolated_image)\n"
   ]
  },
  {
   "cell_type": "code",
   "execution_count": 6,
   "metadata": {},
   "outputs": [
    {
     "name": "stdout",
     "output_type": "stream",
     "text": [
      "PSNR: 15.57822694672499\n"
     ]
    }
   ],
   "source": [
    "import cv2\n",
    "import numpy as np\n",
    "\n",
    "def psnr(original_img, compressed_img):\n",
    "    mse = np.mean((original_img - compressed_img) ** 2)\n",
    "    if mse == 0:\n",
    "        return float('inf')\n",
    "    max_pixel = 255.0\n",
    "    psnr_value = 20 * np.log10(max_pixel / np.sqrt(mse))\n",
    "    return psnr_value\n",
    "\n",
    "# Load the original and compressed images\n",
    "# original_image = cv2.imread('Fig0222(c)(crowd).tif')\n",
    "# compressed_image = cv2.imread('Bicubic_Salt_output.jpg')\n",
    "\n",
    "# original_image = cv2.imread('Fig0222(a)(face).tif')\n",
    "# compressed_image = cv2.imread('Bicubic_Face_Salt_output.jpg')\n",
    "\n",
    "\n",
    "original_image = cv2.imread('Fig0222(b)(cameraman).tif')\n",
    "compressed_image = cv2.imread('Bicubic_Camera_Salt_output.jpg')\n",
    "\n",
    "# original_image = cv2.imread('Bilinear_output2.tif')\n",
    "# compressed_image = cv2.imread('Fig0222(c)(crowd).tif')\n",
    "\n",
    "# Convert images to float32 for PSNR calculation\n",
    "original_image = original_image.astype(np.float32)\n",
    "compressed_image = compressed_image.astype(np.float32)\n",
    "\n",
    "# Calculate PSNR\n",
    "psnr_value = psnr(original_image, compressed_image)\n",
    "print('PSNR:', psnr_value)"
   ]
  },
  {
   "cell_type": "code",
   "execution_count": 9,
   "metadata": {},
   "outputs": [
    {
     "data": {
      "text/plain": [
       "True"
      ]
     },
     "execution_count": 9,
     "metadata": {},
     "output_type": "execute_result"
    }
   ],
   "source": [
    "import cv2\n",
    "\n",
    "# Load your image\n",
    "# image = cv2.imread('salt_noisy_image.jpg')\n",
    "\n",
    "# image = cv2.imread('GaussianF_Face_uniform_noisy_image.jpg')\n",
    "\n",
    "image = cv2.imread('Median_Face_salt_noisy_image.jpg')\n",
    "\n",
    "# image = cv2.imread('Median_Camera_salt_noisy_image.jpg')\n",
    "\n",
    "# image = cv2.imread('Median_Crowd_salt_noisy_image.jpg')\n",
    "\n",
    "\n",
    "# Define the new dimensions for the interpolated image\n",
    "# new_width = 512  # Replace with your desired width\n",
    "# new_height = 512  # Replace with your desired height\n",
    "\n",
    "new_width = 300  # Replace with your desired width\n",
    "new_height = 300  # Replace with your desired height\n",
    "\n",
    "# new_width = 256  # Replace with your desired width\n",
    "# new_height = 256  # Replace with your desired height\n",
    "\n",
    "\n",
    "# Perform bicubic interpolation\n",
    "interpolated_image = cv2.resize(image, (new_width, new_height), interpolation=cv2.INTER_CUBIC)\n",
    "\n",
    "# Display or save the interpolated image\n",
    "# cv2.imshow('Bicubic Interpolation', interpolated_image)\n",
    "# cv2.waitKey(0)\n",
    "# cv2.destroyAllWindows()\n",
    "\n",
    "# To save the image:\n",
    "# cv2.imwrite('Bicubic_Salt_output.jpg', interpolated_image)\n",
    "\n",
    "cv2.imwrite('Bicubic_Median_Face_salt_noisy_image.jpg', interpolated_image)\n",
    "\n",
    "# cv2.imwrite('Bicubic_Median_Camera_salt_noisy_image.jpg', interpolated_image)\n",
    "\n",
    "# cv2.imwrite('Bicubic_Median_Crowd_salt_noisy_image.jpg', interpolated_image)\n",
    "\n"
   ]
  },
  {
   "cell_type": "code",
   "execution_count": 8,
   "metadata": {},
   "outputs": [
    {
     "name": "stdout",
     "output_type": "stream",
     "text": [
      "PSNR: 22.782498806945583\n"
     ]
    }
   ],
   "source": [
    "import cv2\n",
    "import numpy as np\n",
    "\n",
    "def psnr(original_img, compressed_img):\n",
    "    mse = np.mean((original_img - compressed_img) ** 2)\n",
    "    if mse == 0:\n",
    "        return float('inf')\n",
    "    max_pixel = 255.0\n",
    "    psnr_value = 20 * np.log10(max_pixel / np.sqrt(mse))\n",
    "    return psnr_value\n",
    "\n",
    "# Load the original and compressed images\n",
    "# original_image = cv2.imread('Fig0222(c)(crowd).tif')\n",
    "# compressed_image = cv2.imread('Bicubic_Salt_output.jpg')\n",
    "\n",
    "# original_image = cv2.imread('Fig0222(a)(face).tif')\n",
    "# compressed_image = cv2.imread('Bicubic_Median_Face_salt_noisy_image.jpg')\n",
    "\n",
    "original_image = cv2.imread('Fig0222(b)(cameraman).tif')\n",
    "compressed_image = cv2.imread('Bicubic_Median_Camera_salt_noisy_image.jpg')\n",
    "\n",
    "# original_image = cv2.imread('Fig0222(c)(crowd).tif')\n",
    "# compressed_image = cv2.imread('Bicubic_Median_Crowd_salt_noisy_image.jpg')\n",
    "\n",
    "# Convert images to float32 for PSNR calculation\n",
    "original_image = original_image.astype(np.float32)\n",
    "compressed_image = compressed_image.astype(np.float32)\n",
    "\n",
    "# Calculate PSNR\n",
    "psnr_value = psnr(original_image, compressed_image)\n",
    "print('PSNR:', psnr_value)"
   ]
  },
  {
   "cell_type": "markdown",
   "metadata": {},
   "source": [
    "## Bicubic on Gaussian filtered image"
   ]
  },
  {
   "cell_type": "code",
   "execution_count": 11,
   "metadata": {},
   "outputs": [
    {
     "data": {
      "text/plain": [
       "True"
      ]
     },
     "execution_count": 11,
     "metadata": {},
     "output_type": "execute_result"
    }
   ],
   "source": [
    "import cv2\n",
    "\n",
    "# Load your image\n",
    "# image = cv2.imread('salt_noisy_image.jpg')\n",
    "\n",
    "# image = cv2.imread('Face_salt_noisy_image.jpg')\n",
    "\n",
    "# image = cv2.imread('Median_Face_salt_noisy_image.jpg')\n",
    "\n",
    "# image = cv2.imread('Median_Camera_salt_noisy_image.jpg')\n",
    "\n",
    "image = cv2.imread('GaussianF_Camera_uniform_noisy_image.jpg')\n",
    "\n",
    "\n",
    "# Define the new dimensions for the interpolated image\n",
    "# new_width = 512  # Replace with your desired width\n",
    "# new_height = 512  # Replace with your desired height\n",
    "\n",
    "# new_width = 300  # Replace with your desired width\n",
    "# new_height = 300  # Replace with your desired height\n",
    "\n",
    "new_width = 256  # Replace with your desired width\n",
    "new_height = 256  # Replace with your desired height\n",
    "\n",
    "\n",
    "# Perform bicubic interpolation\n",
    "interpolated_image = cv2.resize(image, (new_width, new_height), interpolation=cv2.INTER_CUBIC)\n",
    "\n",
    "# Display or save the interpolated image\n",
    "# cv2.imshow('Bicubic Interpolation', interpolated_image)\n",
    "# cv2.waitKey(0)\n",
    "# cv2.destroyAllWindows()\n",
    "\n",
    "# To save the image:\n",
    "# cv2.imwrite('Bicubic_Salt_output.jpg', interpolated_image)\n",
    "\n",
    "# cv2.imwrite('Bicubic_Median_Face_salt_noisy_image.jpg', interpolated_image)\n",
    "\n",
    "# cv2.imwrite('Bicubic_Median_Camera_salt_noisy_image.jpg', interpolated_image)\n",
    "\n",
    "cv2.imwrite('Bicubic_GaussianF_Camera_uniform_noisy_image.jpg', interpolated_image)\n",
    "\n"
   ]
  },
  {
   "cell_type": "code",
   "execution_count": 13,
   "metadata": {},
   "outputs": [
    {
     "name": "stdout",
     "output_type": "stream",
     "text": [
      "PSNR: 20.28645227784456\n"
     ]
    }
   ],
   "source": [
    "import cv2\n",
    "import numpy as np\n",
    "\n",
    "def psnr(original_img, compressed_img):\n",
    "    mse = np.mean((original_img - compressed_img) ** 2)\n",
    "    if mse == 0:\n",
    "        return float('inf')\n",
    "    max_pixel = 255.0\n",
    "    psnr_value = 20 * np.log10(max_pixel / np.sqrt(mse))\n",
    "    return psnr_value\n",
    "\n",
    "# Load the original and compressed images\n",
    "# original_image = cv2.imread('Fig0222(c)(crowd).tif')\n",
    "# compressed_image = cv2.imread('Bicubic_Salt_output.jpg')\n",
    "\n",
    "# original_image = cv2.imread('Fig0222(a)(face).tif')\n",
    "# compressed_image = cv2.imread('Bicubic_Median_Face_salt_noisy_image.jpg')\n",
    "\n",
    "original_image = cv2.imread('Fig0222(b)(cameraman).tif')\n",
    "compressed_image = cv2.imread('Bicubic_GaussianF_Camera_uniform_noisy_image.jpg')\n",
    "\n",
    "# original_image = cv2.imread('Fig0222(c)(crowd).tif')\n",
    "# compressed_image = cv2.imread('Bicubic_Median_Crowd_salt_noisy_image.jpg')\n",
    "\n",
    "# Convert images to float32 for PSNR calculation\n",
    "original_image = original_image.astype(np.float32)\n",
    "compressed_image = compressed_image.astype(np.float32)\n",
    "\n",
    "# Calculate PSNR\n",
    "psnr_value = psnr(original_image, compressed_image)\n",
    "print('PSNR:', psnr_value)"
   ]
  }
 ],
 "metadata": {
  "kernelspec": {
   "display_name": "base",
   "language": "python",
   "name": "python3"
  },
  "language_info": {
   "codemirror_mode": {
    "name": "ipython",
    "version": 3
   },
   "file_extension": ".py",
   "mimetype": "text/x-python",
   "name": "python",
   "nbconvert_exporter": "python",
   "pygments_lexer": "ipython3",
   "version": "3.7.3"
  }
 },
 "nbformat": 4,
 "nbformat_minor": 2
}
